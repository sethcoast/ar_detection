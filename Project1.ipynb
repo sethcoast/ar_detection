{
  "nbformat": 4,
  "nbformat_minor": 0,
  "metadata": {
    "colab": {
      "name": "Project1.ipynb",
      "provenance": [],
      "toc_visible": true
    },
    "kernelspec": {
      "name": "python3",
      "display_name": "Python 3"
    },
    "accelerator": "GPU"
  },
  "cells": [
    {
      "cell_type": "code",
      "metadata": {
        "id": "QAbL1DnJ_XrK",
        "colab_type": "code",
        "outputId": "dcd4c5d1-2adb-4b1a-a7ca-bf52baa0204c",
        "colab": {
          "base_uri": "https://localhost:8080/",
          "height": 138
        }
      },
      "source": [
        "!pip3 install torch\n",
        "!pip3 install torchvision\n",
        "!pip3 install tqdm\n",
        "\n",
        "import torch\n",
        "import torch.nn as nn\n",
        "import torch.nn.functional as F\n",
        "import torch.optim as optim\n",
        "from torch.utils.data import Dataset, DataLoader\n",
        "import numpy as np\n",
        "import matplotlib.pyplot as plt\n",
        "from torchvision import transforms, utils, datasets\n",
        "from tqdm import tqdm\n",
        "from torch.nn.parameter import Parameter\n",
        "import pdb\n",
        "import torchvision\n",
        "import os\n",
        "import gzip\n",
        "import tarfile\n",
        "import gc\n",
        "import cv2\n",
        "import scipy.misc\n",
        "from PIL import Image\n",
        "from IPython.core.ultratb import AutoFormattedTB\n",
        "from sklearn.metrics import confusion_matrix\n",
        "import pandas as pd\n",
        "\n",
        "__ITB__ = AutoFormattedTB(mode = 'Plain',color_scheme='LightBg', tb_offset = 1)\n",
        "\n",
        "assert torch.cuda.is_available(), \"You need to request a GPU from Runtime > Change Runtime\""
      ],
      "execution_count": 5,
      "outputs": [
        {
          "output_type": "stream",
          "text": [
            "Requirement already satisfied: torch in /usr/local/lib/python3.6/dist-packages (1.4.0)\n",
            "Requirement already satisfied: torchvision in /usr/local/lib/python3.6/dist-packages (0.5.0)\n",
            "Requirement already satisfied: numpy in /usr/local/lib/python3.6/dist-packages (from torchvision) (1.17.5)\n",
            "Requirement already satisfied: pillow>=4.1.1 in /usr/local/lib/python3.6/dist-packages (from torchvision) (6.2.2)\n",
            "Requirement already satisfied: six in /usr/local/lib/python3.6/dist-packages (from torchvision) (1.12.0)\n",
            "Requirement already satisfied: torch==1.4.0 in /usr/local/lib/python3.6/dist-packages (from torchvision) (1.4.0)\n",
            "Requirement already satisfied: tqdm in /usr/local/lib/python3.6/dist-packages (4.28.1)\n"
          ],
          "name": "stdout"
        }
      ]
    },
    {
      "cell_type": "code",
      "metadata": {
        "id": "Uh_iFs2KAjLx",
        "colab_type": "code",
        "outputId": "4f986f81-2621-467f-c5be-3e2635bb4e0f",
        "colab": {
          "base_uri": "https://localhost:8080/",
          "height": 35
        }
      },
      "source": [
        "# Mount drive\n",
        "import zipfile\n",
        "from google.colab import drive\n",
        "\n",
        "drive.mount('/content/drive/')"
      ],
      "execution_count": 2,
      "outputs": [
        {
          "output_type": "stream",
          "text": [
            "Drive already mounted at /content/drive/; to attempt to forcibly remount, call drive.mount(\"/content/drive/\", force_remount=True).\n"
          ],
          "name": "stdout"
        }
      ]
    },
    {
      "cell_type": "code",
      "metadata": {
        "id": "mbdu4diRk5-U",
        "colab_type": "code",
        "colab": {}
      },
      "source": [
        "data_path = \"/content/drive/My Drive/data/\"\n",
        "img_path = '/tmp/ar_data/'"
      ],
      "execution_count": 0,
      "outputs": []
    },
    {
      "cell_type": "code",
      "metadata": {
        "id": "HQtJ7_DyC-R3",
        "colab_type": "code",
        "colab": {}
      },
      "source": [
        "# Unzip the ar_tag images, and write them to current\n",
        "zip_ref = zipfile.ZipFile(\"{}ar_data.zip\".format(data_path), 'r')\n",
        "zip_ref.extractall(\"/tmp\")\n",
        "zip_ref.close()"
      ],
      "execution_count": 0,
      "outputs": []
    },
    {
      "cell_type": "code",
      "metadata": {
        "id": "vKuaEF3CRKlh",
        "colab_type": "code",
        "colab": {}
      },
      "source": [
        "# function for showing imgs\n",
        "def show_img(img_path, name):\n",
        "    img = cv2.imread('{}{}'.format(img_path, name))\n",
        "    img = cv2.cvtColor(img, cv2.COLOR_BGR2RGB)\n",
        "    plt.imshow(img)\n",
        "    plt.show()"
      ],
      "execution_count": 0,
      "outputs": []
    },
    {
      "cell_type": "code",
      "metadata": {
        "id": "TR89RnHFST2N",
        "colab_type": "code",
        "colab": {}
      },
      "source": [
        "# helper for combining pos and neg example csv's\n",
        "def combine_pos_neg_csv(data_path, pos_filename, neg_filename, combined_filename):\n",
        "    # open csv's\n",
        "    pos_data = pd.read_csv('{}{}'.format(data_path, pos_filename))\n",
        "    neg_data = pd.read_csv('{}{}'.format(data_path, neg_filename))\n",
        "    print(pos_data.head())\n",
        "    print(neg_data.head())\n",
        "    # combine csv data\n",
        "    data = pd.concat([pos_data, neg_data], ignore_index=True)\n",
        "    # randomly shuffle\n",
        "    print(data.head())\n",
        "    data = data.sample(frac=1).reset_index(drop=True)\n",
        "    data.reset_index(inplace=True)\n",
        "    data.drop(columns=['index','Unnamed: 0'], inplace=True)\n",
        "    print(data.head())\n",
        "    # write to drive\n",
        "    data.to_csv(\"{}{}\".format(data_path, combined_filename))"
      ],
      "execution_count": 0,
      "outputs": []
    },
    {
      "cell_type": "code",
      "metadata": {
        "id": "sKgCWAF8tnnk",
        "colab_type": "code",
        "colab": {}
      },
      "source": [
        "# combine_pos_neg_csv(data_path, 'pos_ar_labels.csv', 'neg_ar_labels.csv', 'ar_labels.csv')"
      ],
      "execution_count": 0,
      "outputs": []
    },
    {
      "cell_type": "code",
      "metadata": {
        "id": "vMnaeU9VmBMy",
        "colab_type": "code",
        "colab": {}
      },
      "source": [
        "def write_train_test_split(data_path, file, frac):\n",
        "    # open file as csv\n",
        "    data = pd.read_csv('{}{}'.format(data_path, file))\n",
        "    data.drop(columns=['Unnamed: 0'], inplace=True)\n",
        "    # split into train and test sets\n",
        "    train_set = data.sample(frac=frac, random_state=0)\n",
        "    train_set.reset_index(inplace=True, drop=True)\n",
        "    test_set = data.drop(train_set.index)\n",
        "    test_set.reset_index(inplace=True, drop=True)\n",
        "    # train_set.drop(columns=['Unnamed: 0'], inplace=True)\n",
        "    # test_set.drop(columns=['Unnamed: 0'], inplace=True)\n",
        "    # write sets\n",
        "    train_set.to_csv('{}train_{}'.format(data_path, file))\n",
        "    test_set.to_csv('{}test_{}'.format(data_path, file))"
      ],
      "execution_count": 0,
      "outputs": []
    },
    {
      "cell_type": "code",
      "metadata": {
        "id": "MsUlUlypo_MX",
        "colab_type": "code",
        "colab": {}
      },
      "source": [
        "# write_train_test_split(data_path, 'ar_labels.csv', 0.75)"
      ],
      "execution_count": 0,
      "outputs": []
    },
    {
      "cell_type": "code",
      "metadata": {
        "id": "8jIyDIjSsMvi",
        "colab_type": "code",
        "colab": {}
      },
      "source": [
        "# Read in data\n",
        "data = pd.read_csv('{}ar_labels.csv'.format(data_path))\n",
        "train_data = pd.read_csv('{}train_ar_labels.csv'.format(data_path))\n",
        "test_data = pd.read_csv('{}test_ar_labels.csv'.format(data_path))"
      ],
      "execution_count": 0,
      "outputs": []
    },
    {
      "cell_type": "code",
      "metadata": {
        "id": "weqLpumLtANx",
        "colab_type": "code",
        "colab": {}
      },
      "source": [
        "show_img(img_path, train_data.iloc[1212]['name'])"
      ],
      "execution_count": 0,
      "outputs": []
    },
    {
      "cell_type": "code",
      "metadata": {
        "id": "jDkIDLUPy_4l",
        "colab_type": "code",
        "colab": {}
      },
      "source": [
        "12"
      ],
      "execution_count": 0,
      "outputs": []
    }
  ]
}